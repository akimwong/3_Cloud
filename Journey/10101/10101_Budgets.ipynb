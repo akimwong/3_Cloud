{
 "cells": [
  {
   "cell_type": "code",
   "execution_count": 1,
   "metadata": {},
   "outputs": [],
   "source": [
    "import boto3\n",
    "client = boto3.client('budgets')"
   ]
  },
  {
   "cell_type": "markdown",
   "metadata": {},
   "source": [
    "## CREATE A BUDGET"
   ]
  },
  {
   "cell_type": "markdown",
   "metadata": {},
   "source": [
    "### 1. COMPLETE"
   ]
  },
  {
   "cell_type": "code",
   "execution_count": null,
   "metadata": {},
   "outputs": [],
   "source": [
    "response = client.create_budget(\n",
    "    AccountId='string',\n",
    "    Budget={\n",
    "        'BudgetName': 'string',\n",
    "        'BudgetLimit': {\n",
    "            'Amount': 'string',\n",
    "            'Unit': 'string'\n",
    "        },\n",
    "        'PlannedBudgetLimits': {\n",
    "            'string': {\n",
    "                'Amount': 'string',\n",
    "                'Unit': 'string'\n",
    "            }\n",
    "        },\n",
    "        'CostFilters': {\n",
    "            'string': [\n",
    "                'string',\n",
    "            ]\n",
    "        },\n",
    "        'CostTypes': {\n",
    "            'IncludeTax': True|False,\n",
    "            'IncludeSubscription': True|False,\n",
    "            'UseBlended': True|False,\n",
    "            'IncludeRefund': True|False,\n",
    "            'IncludeCredit': True|False,\n",
    "            'IncludeUpfront': True|False,\n",
    "            'IncludeRecurring': True|False,\n",
    "            'IncludeOtherSubscription': True|False,\n",
    "            'IncludeSupport': True|False,\n",
    "            'IncludeDiscount': True|False,\n",
    "            'UseAmortized': True|False\n",
    "        },\n",
    "        'TimeUnit': 'DAILY'|'MONTHLY'|'QUARTERLY'|'ANNUALLY',\n",
    "        'TimePeriod': {\n",
    "            'Start': datetime(2015, 1, 1),\n",
    "            'End': datetime(2015, 1, 1)\n",
    "        },\n",
    "        'CalculatedSpend': {\n",
    "            'ActualSpend': {\n",
    "                'Amount': 'string',\n",
    "                'Unit': 'string'\n",
    "            },\n",
    "            'ForecastedSpend': {\n",
    "                'Amount': 'string',\n",
    "                'Unit': 'string'\n",
    "            }\n",
    "        },\n",
    "        'BudgetType': 'USAGE'|'COST'|'RI_UTILIZATION'|'RI_COVERAGE'|'SAVINGS_PLANS_UTILIZATION'|'SAVINGS_PLANS_COVERAGE',\n",
    "        'LastUpdatedTime': datetime(2015, 1, 1)\n",
    "    },\n",
    "    NotificationsWithSubscribers=[\n",
    "        {\n",
    "            'Notification': {\n",
    "                'NotificationType': 'ACTUAL'|'FORECASTED',\n",
    "                'ComparisonOperator': 'GREATER_THAN'|'LESS_THAN'|'EQUAL_TO',\n",
    "                'Threshold': 123.0,\n",
    "                'ThresholdType': 'PERCENTAGE'|'ABSOLUTE_VALUE',\n",
    "                'NotificationState': 'OK'|'ALARM'\n",
    "            },\n",
    "            'Subscribers': [\n",
    "                {\n",
    "                    'SubscriptionType': 'SNS'|'EMAIL',\n",
    "                    'Address': 'string'\n",
    "                },\n",
    "            ]\n",
    "        },\n",
    "    ]\n",
    ")"
   ]
  },
  {
   "cell_type": "markdown",
   "metadata": {},
   "source": [
    "### 2. SHORT\n",
    "To create a budget, you need the next policy:\n",
    "\"arn:aws:iam::aws:policy/AWSBudgetsActionsWithAWSResourceControlAccess\""
   ]
  },
  {
   "cell_type": "code",
   "execution_count": 8,
   "metadata": {},
   "outputs": [],
   "source": [
    "response = client.create_budget(\n",
    "    AccountId='3xxxxxxxxxx5',\n",
    "    Budget={\n",
    "        'BudgetName': 'Test',\n",
    "        'BudgetLimit': {\n",
    "            'Amount': '5',\n",
    "            'Unit': 'dollars'\n",
    "        },\n",
    "        'CostTypes': {\n",
    "            'IncludeTax': True,\n",
    "            'IncludeSubscription': True,\n",
    "            'UseBlended': True,\n",
    "            'IncludeRefund': True,\n",
    "            'IncludeCredit': True,\n",
    "            'IncludeUpfront': True,\n",
    "            'IncludeRecurring': True,\n",
    "            'IncludeOtherSubscription': True,\n",
    "            'IncludeSupport': True,\n",
    "            'IncludeDiscount': True,\n",
    "            'UseAmortized': True\n",
    "        },\n",
    "        'TimeUnit': 'MONTHLY',\n",
    "        'BudgetType': 'COST',\n",
    "    },\n",
    "    NotificationsWithSubscribers=[\n",
    "        {\n",
    "            'Notification': {\n",
    "                'NotificationType': 'ACTUAL',\n",
    "                'ComparisonOperator': 'GREATER_THAN',\n",
    "                'Threshold': 50,\n",
    "                'ThresholdType': 'PERCENTAGE',\n",
    "                'NotificationState': 'ALARM'\n",
    "            },\n",
    "            'Subscribers': [\n",
    "                {\n",
    "                    'SubscriptionType': 'EMAIL',\n",
    "                    'Address': 'xxxxxxxxxxxx@gmail.com'\n",
    "                },\n",
    "            ]\n",
    "        },\n",
    "    ]\n",
    ")"
   ]
  },
  {
   "cell_type": "code",
   "execution_count": null,
   "metadata": {},
   "outputs": [],
   "source": []
  }
 ],
 "metadata": {
  "kernelspec": {
   "display_name": "Python 3",
   "language": "python",
   "name": "python3"
  },
  "language_info": {
   "codemirror_mode": {
    "name": "ipython",
    "version": 3
   },
   "file_extension": ".py",
   "mimetype": "text/x-python",
   "name": "python",
   "nbconvert_exporter": "python",
   "pygments_lexer": "ipython3",
   "version": "3.8.5"
  }
 },
 "nbformat": 4,
 "nbformat_minor": 4
}
