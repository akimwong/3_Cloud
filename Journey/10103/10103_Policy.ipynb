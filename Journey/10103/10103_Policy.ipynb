{
 "cells": [
  {
   "cell_type": "code",
   "execution_count": 5,
   "metadata": {},
   "outputs": [],
   "source": [
    "import boto3\n",
    "iam = boto3.resource('iam')\n",
    "client = boto3.client('iam')"
   ]
  },
  {
   "cell_type": "markdown",
   "metadata": {},
   "source": [
    "## ADD A POLICY TO A GROUP\n",
    "- When you create an IAM user, by default, it has no permissions\n",
    "- You have to explicitly give the user permission to do anything in that account\n",
    "- The way that you grant or deny permission is to associate what is called an IAM policy to an IAM user\n",
    "- You can attach a policy to a group and all of the users in that group will have those permissions\n",
    "\n",
    "### 1. COMPLETE & 2. SHORT"
   ]
  },
  {
   "cell_type": "code",
   "execution_count": 2,
   "metadata": {},
   "outputs": [],
   "source": [
    "response = client.attach_group_policy(\n",
    "    GroupName='finance',\n",
    "    PolicyArn='arn:aws:iam::aws:policy/AWSMobileHub_ReadOnly'\n",
    ")"
   ]
  },
  {
   "cell_type": "markdown",
   "metadata": {},
   "source": [
    "## CREATE A 'CUSTOMER MANAGED' POLICY\n",
    "- Version: Policy language version, by default include \"2012-10-12\"\n",
    "- Statement: One or more individual statements\n",
    "- Sid: Identifier of the statement\n",
    "- Effect: Wether the statement allows or denies access\n",
    "- Action: List of actions this policy allows or denies\n",
    "- Resource: List of resources to which the actions applied to"
   ]
  },
  {
   "cell_type": "code",
   "execution_count": 8,
   "metadata": {},
   "outputs": [
    {
     "name": "stdout",
     "output_type": "stream",
     "text": [
      "{'PolicyName': 's3ListBuckets', 'PolicyId': 'ANPAVVATKWKBY4IMF4YSY', 'Arn': 'arn:aws:iam::388735087235:policy/s3ListBuckets', 'Path': '/', 'DefaultVersionId': 'v1', 'AttachmentCount': 0, 'PermissionsBoundaryUsageCount': 0, 'IsAttachable': True, 'CreateDate': datetime.datetime(2021, 11, 6, 20, 5, 1, tzinfo=tzutc()), 'UpdateDate': datetime.datetime(2021, 11, 6, 20, 5, 1, tzinfo=tzutc())}\n"
     ]
    }
   ],
   "source": [
    "import json\n",
    "\n",
    "policy_json = {\n",
    "    \"Version\": \"2012-10-17\",\n",
    "    \"Statement\": [\n",
    "        {\n",
    "            \"Sid\": \"s3ListBuckets\",\n",
    "            \"Effect\": \"Allow\",\n",
    "            \"Action\": \"s3:ListBucket\",\n",
    "            \"Resource\": \"arn:aws:s3:::akim-digital-food-01\"\n",
    "        }\n",
    "    ]   \n",
    "}\n",
    "\n",
    "response = client.create_policy(\n",
    "    PolicyName='s3ListBuckets',\n",
    "    PolicyDocument=json.dumps(policy_json)\n",
    ") \n",
    "\n",
    "print(response['Policy'])"
   ]
  },
  {
   "cell_type": "markdown",
   "metadata": {},
   "source": [
    "## DELETE A 'CUSTOMER MANAGED POLICY' by using resource"
   ]
  },
  {
   "cell_type": "code",
   "execution_count": 7,
   "metadata": {},
   "outputs": [
    {
     "name": "stdout",
     "output_type": "stream",
     "text": [
      "Policy has been deleted\n"
     ]
    }
   ],
   "source": [
    "policy = iam.Policy(\n",
    "    'arn:aws:iam::388735087235:policy/s3ListBuckets'\n",
    ")\n",
    "policy.delete()\n",
    "print('Policy has been deleted')"
   ]
  },
  {
   "cell_type": "markdown",
   "metadata": {},
   "source": [
    "## DELETE A 'CUSTOMER MANAGED POLICY' by using client"
   ]
  },
  {
   "cell_type": "code",
   "execution_count": 9,
   "metadata": {},
   "outputs": [
    {
     "name": "stdout",
     "output_type": "stream",
     "text": [
      "{'ResponseMetadata': {'RequestId': 'a6f541e6-ef30-4a2d-90b7-de67ec079e57', 'HTTPStatusCode': 200, 'HTTPHeaders': {'x-amzn-requestid': 'a6f541e6-ef30-4a2d-90b7-de67ec079e57', 'content-type': 'text/xml', 'content-length': '204', 'date': 'Sat, 06 Nov 2021 20:06:08 GMT'}, 'RetryAttempts': 0}}\n"
     ]
    }
   ],
   "source": [
    "response = client.delete_policy(\n",
    "    PolicyArn='arn:aws:iam::388735087235:policy/s3ListBuckets'\n",
    ")\n",
    "print(response)"
   ]
  },
  {
   "cell_type": "code",
   "execution_count": null,
   "metadata": {},
   "outputs": [],
   "source": []
  }
 ],
 "metadata": {
  "kernelspec": {
   "display_name": "Python 3",
   "language": "python",
   "name": "python3"
  },
  "language_info": {
   "codemirror_mode": {
    "name": "ipython",
    "version": 3
   },
   "file_extension": ".py",
   "mimetype": "text/x-python",
   "name": "python",
   "nbconvert_exporter": "python",
   "pygments_lexer": "ipython3",
   "version": "3.8.5"
  }
 },
 "nbformat": 4,
 "nbformat_minor": 4
}
